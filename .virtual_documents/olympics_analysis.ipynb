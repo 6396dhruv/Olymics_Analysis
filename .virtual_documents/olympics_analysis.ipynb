


import numpy as np
import pandas as pd


events_df = pd.read_csv("athlete_events.csv")
region_df = pd.read_csv("noc_regions.csv")


events_df.head()


events_df.shape


# i will filter the data on the basis of summer season ignoring winter
events_df= events_df[events_df['Season'] == 'Summer']


events_df.shape


events_df.head()


region_df.head()


events_df = events_df.merge(region_df, on= 'NOC', how= 'left')


# events_df['region'].value_counts().unique()
events_df['region'].unique()


events_df.isnull().sum()


events_df.duplicated().sum()


events_df.drop_duplicates(inplace=True)


events_df.duplicated().sum()


events_df['Medal'].value_counts()


# get_dummies - it is the function used to split the medal values it it exist it will place 1 other wise 0

pd.get_dummies(events_df['Medal'])


events_df.shape


pd.concat([events_df, pd.get_dummies(events_df['Medal']).astype(int)], axis= 1)


events_df = pd.concat([events_df, pd.get_dummies(events_df['Medal']).astype(int)], axis= 1)


events_df.groupby('NOC').sum()[['Gold', 'Silver', 'Bronze']].sort_values('Gold', ascending= False).reset_index()


# from the above data the problem is that if a team wins a medal than the data will multiply with each player so it increases the medal win i have 
# to remove the duplicate


events_df.drop_duplicates(subset=['Team', 'NOC', 'Games', 'Year', 'City', 'Sport', 'Event', 'Medal'])


medal_tally = events_df.drop_duplicates(subset=['Team', 'NOC', 'Games', 'Year', 'City', 'Sport', 'Event', 'Medal'])


medal_tally


medal_tally=medal_tally.groupby('region').sum()[['Gold', 'Silver', 'Bronze']].sort_values('Gold', ascending= False).reset_index()


medal_tally


medal_tally['total'] = medal_tally['Gold'] + medal_tally['Silver'] + medal_tally['Bronze']


medal_tally


events_df


years = events_df['Year'].unique().tolist()


years.sort()


years.insert(0, 'Overall')


years


country = np.unique(events_df['region'].dropna()).tolist()


country.sort()


country


country.insert(0, 'Overall')


country


def fetch_medal_tally(year, country):
    medadl_df = events_df.drop_duplicates(subset=['Team', 'NOC', 'Games', 'Year', 'City', 'Sport', 'Event', 'Medal'])
    flag =0
    if year == 'Overall' and country == 'Overall':
        temp_df = medadl_df
    if year == 'Overall' and country != 'Overall':
        flag =1
        temp_df = medadl_df[medadl_df['region'] == country]
    if year != 'Overall' and country == 'Overall':
        temp_df = medadl_df[medadl_df['Year'] == int(year)]
    if year != 'Overall' and country != 'Overall':
        temp_df = medadl_df[(medadl_df['Year'] == year) & (medadl_df['region'] == country)]
    if flag == 1:
        x = temp_df.groupby('Year').sum()[['Gold', 'Silver', 'Bronze']].sort_values('Gold', ascending= False).reset_index()
    else:
        x = temp_df.groupby('region').sum()[['Gold', 'Silver', 'Bronze']].sort_values('Gold', ascending= False).reset_index()
        
    x['total'] = x['Gold'] + x['Silver'] + x['Bronze']

    print(x)


medadl_df = events_df.drop_duplicates(subset=['Team', 'NOC', 'Games', 'Year', 'City', 'Sport', 'Event', 'Medal'])


medadl_df[medadl_df['region'] == 'India']


medadl_df[medadl_df['Year'] == 2016]


fetch_medal_tally(year = 'Overall', country= 'France')





events_df['Year'].unique().shape[0]-1


events_df['City'].unique().shape[0]


events_df['Sport'].unique().shape[0]


events_df['Event'].unique().shape[0]


events_df['Name'].unique().shape[0]


events_df['region'].unique().shape[0]


events_df.head()


nations_participants= events_df.drop_duplicates(['Year', 'region'])['Year'].value_counts().reset_index().sort_values('count')


nations_participants.rename(columns={'Year': 'Editions', 'count': 'country counts'}, inplace=True)


nations_participants


import plotly.express as px


fig = px.line(nations_participants, x= 'Editions', y='country counts')
fig.show()


events_df.drop_duplicates(['Year', 'Event'])['Year'].value_counts().reset_index().sort_values('count')


x = events_df.drop_duplicates(['Year', 'Sport', 'Event'])


import seaborn as sns
import matplotlib.pyplot as plt
plt.figure(figsize= (20, 20))
sns.heatmap(x.pivot_table(index='Sport', columns='Year', values='Event', aggfunc='count').fillna(0).astype('int'), annot=True)


def most_successful(events_df, sport):
    tempdf = events_df.dropna(subset= ['Medal'])

    if sport != 'Overall':
        tempdf = tempdf[tempdf['Sport'] == sport]

    x= tempdf['Name'].value_counts().reset_index().merge(events_df)[['Name', 'count', 'Sport', 'region']].drop_duplicates('Name')
    x.rename(columns= {'count': 'Medals'}, inplace= True)
    return x


most_successful(events_df, 'Gymnastics')





events_df


sports_list = events_df['Sport'].unique().tolist()


sports_list.sort()


sports_list.insert(0, 'Overall')


sports_list





events_df


temp_df =events_df.dropna(subset= ['Medal'])
temp_df.drop_duplicates(subset=['Team', 'NOC', 'Games', 'Year', 'City', 'Sport', 'Event', 'Medal'], inplace=True)


temp_df


new_df= temp_df[temp_df['region'] == 'India']
final_df = new_df.groupby('Year').count()['Medal'].reset_index()


fig = px.line(final_df, x= 'Year', y= 'Medal')
fig.show()


temp_df


new_df = temp_df[temp_df['region'] == 'UK']
plt.figure(figsize=(20, 20))
sns.heatmap(new_df.pivot_table(index= 'Sport', columns= 'Year', values= 'Medal', aggfunc= 'count').fillna(0), annot=True)



def most_successful(events_df, country):
    tempdf = events_df.dropna(subset= ['Medal'])
    tempdf = tempdf[tempdf['region'] == country]

    x= tempdf['Name'].value_counts().reset_index().merge(events_df)[['Name', 'count', 'Sport']].drop_duplicates('Name')
    x.rename(columns= {'count': 'Medals'}, inplace= True)
    return x


most_successful(events_df, 'India')


# tempdf = events_df.dropna(subset= ['Medal'])

# tempdf = tempdf[tempdf['Sport'] == 'India']

# x= tempdf['Name'].value_counts().reset_index()


# print(x)


import plotly.figure_factory as ff


athlete_df= events_df.drop_duplicates(subset =['Name', 'region'])


athlete_df['Age'].dropna()


x1 = athlete_df['Age'].dropna()
x2 = athlete_df[athlete_df['Medal'] == 'Gold']['Age'].dropna()
x3 = athlete_df[athlete_df['Medal'] == 'Silver']['Age'].dropna()
x4 = athlete_df[athlete_df['Medal'] == 'Bronze']['Age'].dropna()


fig = ff.create_distplot([x1,x2,x3,x4], ['Overall Age','Gold Medalist', 'Silver Medalist', 'Bronze Medalist'], show_hist=False, show_rug=False)
fig.show()


events_df['Sport'].unique()


famous_sports= ['Basketball', 'Judo', 'Football', 'Tug-Of-War', 'Athletics',
       'Swimming', 'Badminton', 'Sailing', 'Gymnastics',
       'Art Competitions', 'Handball', 'Weightlifting', 'Wrestling',
       'Water Polo', 'Hockey', 'Rowing', 'Fencing', 'Equestrianism',
       'Shooting', 'Boxing', 'Taekwondo', 'Cycling', 'Diving', 'Canoeing',
       'Tennis', 'Modern Pentathlon', 'Golf', 'Softball', 'Archery',
       'Volleyball', 'Synchronized Swimming', 'Table Tennis', 'Baseball',
       'Rhythmic Gymnastics', 'Rugby Sevens', 'Trampolining',
       'Beach Volleyball', 'Triathlon', 'Rugby', 'Lacrosse', 'Polo',
       'Cricket', 'Ice Hockey', 'Racquets', 'Motorboating', 'Croquet',
       'Figure Skating', 'Jeu De Paume', 'Roque', 'Basque Pelota',
       'Alpinism', 'Aeronautics']


x = []
name = []
for sport in famous_sports:
    temp_df= athlete_df[athlete_df['Sport'] == sport]
    x.append(temp_df[temp_df['Medal'] == 'Gold']['Age'].dropna())
    name.append(sport)


fig = ff.create_distplot(x, name, show_hist=False, show_rug=False)
fig.show()






